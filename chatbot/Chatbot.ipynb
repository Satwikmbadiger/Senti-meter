{
 "cells": [
  {
   "cell_type": "code",
   "execution_count": 13,
   "id": "5cc43914-3db1-44b5-a4c9-6c5f5c1141f6",
   "metadata": {},
   "outputs": [
    {
     "name": "stdout",
     "output_type": "stream",
     "text": [
      "Hello human, what's your name?!🤔\n"
     ]
    },
    {
     "name": "stdin",
     "output_type": "stream",
     "text": [
      " mohan\n"
     ]
    },
    {
     "name": "stdout",
     "output_type": "stream",
     "text": [
      "Do you have a nickname?! [y/n] 🙃\n"
     ]
    },
    {
     "name": "stdin",
     "output_type": "stream",
     "text": [
      " momo\n"
     ]
    },
    {
     "name": "stdout",
     "output_type": "stream",
     "text": [
      "I will call you silly goose😜\n",
      "How are things going silly goose?\n"
     ]
    },
    {
     "name": "stdin",
     "output_type": "stream",
     "text": [
      " worse\n"
     ]
    },
    {
     "name": "stdout",
     "output_type": "stream",
     "text": [
      "Sorry to hear that! 😔\n",
      "What do u think about football?\n"
     ]
    },
    {
     "name": "stdin",
     "output_type": "stream",
     "text": [
      " fun\n"
     ]
    },
    {
     "name": "stdout",
     "output_type": "stream",
     "text": [
      "So you don't like football\n",
      "and you are a bit biased!\n",
      "What is your take on Computer Games?\n"
     ]
    },
    {
     "name": "stdin",
     "output_type": "stream",
     "text": [
      " bad\n"
     ]
    },
    {
     "name": "stdout",
     "output_type": "stream",
     "text": [
      "So you don't like Computer Games\n",
      "and you are a bit biased!\n",
      "What do u reckon about Python?\n"
     ]
    },
    {
     "name": "stdin",
     "output_type": "stream",
     "text": [
      " boring\n"
     ]
    },
    {
     "name": "stdout",
     "output_type": "stream",
     "text": [
      "So you don't like Python\n",
      "and you are a bit biased!\n",
      "It was good talking to u silly gooseI gotta go now!\n"
     ]
    }
   ],
   "source": [
    "import random\n",
    "import pickle\n",
    "from textblob import TextBlob\n",
    "import pandas as pd\n",
    "from sklearn.feature_extraction.text import TfidfVectorizer\n",
    "\n",
    "# Load the sentiment analysis model\n",
    "with open('senti_model.pkl', 'rb') as model_file:\n",
    "    senti_model = pickle.load(model_file)\n",
    "\n",
    "# Load the vectorizer\n",
    "with open('vectorizer.pkl', 'rb') as vectorizer_file:\n",
    "    vectorizer = pickle.load(vectorizer_file)\n",
    "\n",
    "# name and nickname conversation\n",
    "print(\"Hello human, what's your name?!🤔\")\n",
    "name = input()\n",
    "print('Do you have a nickname?! [y/n] 🙃')\n",
    "ans = input()\n",
    "if 'y' in ans.lower():\n",
    "    print(\"What's your nickname?!😍\")\n",
    "    nickname = input()\n",
    "    print('Good to meet you ' + nickname + '😁')\n",
    "else:\n",
    "    name_list = ['killua', 'gon', 'naruto', 'idiot', 'xoxo', 'kimchi', 'fatty-mcFat', 'mother-coconuts', 'phineas',\n",
    "                 'ferb', 'tennison', 'gwen', 'prarthana', 'meow', 'tuple', 'silly goose', 'babe', 'rose', 'tupperware', 'dude']\n",
    "    nickname = random.choice(name_list)\n",
    "    print('I will call you ' + nickname + '😜')\n",
    "\n",
    "# greeting selection\n",
    "greetings = [\n",
    "    'How are you today ' + nickname + '?',\n",
    "    'Howdy ' + nickname + \" friend, how you feelin' today?\",\n",
    "    \"What's up \" + nickname + '?',\n",
    "    'Greetings ' + nickname + ' are you well?',\n",
    "    'How are things going ' + nickname + '?'\n",
    "]\n",
    "print(random.choice(greetings))\n",
    "ans = input()\n",
    "blob = TextBlob(ans)\n",
    "\n",
    "if blob.polarity > 0:\n",
    "    print('Glad you are doing well!😊')\n",
    "else:\n",
    "    print('Sorry to hear that! 😔')\n",
    "\n",
    "# several random opinions\n",
    "topics = [\n",
    "    'football',\n",
    "    'coding',\n",
    "    'Marvel',\n",
    "    'DC',\n",
    "    'Python',\n",
    "    'Computer Games',\n",
    "    'pubg',\n",
    "    'COD'\n",
    "]\n",
    "\n",
    "questions = [\n",
    "    'What is your take on ',\n",
    "    'What do u think about ',\n",
    "    'How do u feel about ',\n",
    "    'What do u reckon about ',\n",
    "    'I would like your opinion on '\n",
    "]\n",
    "\n",
    "for i in range(0, random.randint(3, 4)):\n",
    "    question = random.choice(questions)\n",
    "    questions.remove(question)\n",
    "    topic = random.choice(topics)\n",
    "    topics.remove(topic)\n",
    "    print(question + topic + '?')\n",
    "    ans = input()\n",
    "    \n",
    "    # Preprocess the input text using the vectorizer\n",
    "    ans_vectorized = vectorizer.transform([ans])\n",
    "    \n",
    "    # Use the sentiment analysis model to predict emotion\n",
    "    predicted_emotion = senti_model.predict(ans_vectorized)[0]\n",
    "\n",
    "    if blob.polarity > 0.5:\n",
    "        print(\"OMG, you really love \" + topic)\n",
    "    elif blob.polarity > 0.5:\n",
    "        print(\"Well, you clearly like \" + topic)\n",
    "    elif blob.polarity < -0.5:\n",
    "        print(\"Uff, you totally hate \" + topic)\n",
    "    elif blob.polarity < -0.1:\n",
    "        print(\"So you don't like \" + topic)\n",
    "    else:\n",
    "        print('That is a very neutral view on ' + topic)\n",
    "\n",
    "    if blob.subjectivity > 0.6:\n",
    "        print('and you are so biased!')\n",
    "    elif blob.subjectivity > 0.3:\n",
    "        print('and you are a bit biased!')\n",
    "    else:\n",
    "        print('and you are quite objective, huh!')\n",
    "\n",
    "# random goodbye\n",
    "goodbyes = [\n",
    "    'It was good talking to u ' + nickname + 'I gotta go now!',\n",
    "    \"OK I'm bored, I go watch NetFlix\",\n",
    "    \"Bye Bye American Pie, I'm out!\",\n",
    "    \"Catch ya later \" + nickname\n",
    "]\n",
    "\n",
    "print(random.choice(goodbyes))\n"
   ]
  },
  {
   "cell_type": "code",
   "execution_count": null,
   "id": "d1aadccf-b432-4491-bbad-3e12349cabf9",
   "metadata": {},
   "outputs": [],
   "source": []
  },
  {
   "cell_type": "code",
   "execution_count": null,
   "id": "68e39c33-f5c2-45bf-9a55-2cf49764697a",
   "metadata": {},
   "outputs": [],
   "source": []
  }
 ],
 "metadata": {
  "kernelspec": {
   "display_name": "Python 3 (ipykernel)",
   "language": "python",
   "name": "python3"
  },
  "language_info": {
   "codemirror_mode": {
    "name": "ipython",
    "version": 3
   },
   "file_extension": ".py",
   "mimetype": "text/x-python",
   "name": "python",
   "nbconvert_exporter": "python",
   "pygments_lexer": "ipython3",
   "version": "3.11.7"
  },
  "widgets": {
   "application/vnd.jupyter.widget-state+json": {
    "state": {},
    "version_major": 2,
    "version_minor": 0
   }
  }
 },
 "nbformat": 4,
 "nbformat_minor": 5
}
