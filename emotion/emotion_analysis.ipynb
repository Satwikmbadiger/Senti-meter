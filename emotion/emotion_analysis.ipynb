{
 "cells": [
  {
   "cell_type": "code",
   "execution_count": 1,
   "id": "cf28aad3-3750-49f6-a481-9218cdef84f1",
   "metadata": {},
   "outputs": [
    {
     "data": {
      "text/plain": [
       "\"import pandas as pd\\nfrom sklearn.model_selection import train_test_split\\nfrom sklearn.feature_extraction.text import TfidfVectorizer\\nfrom sklearn.svm import SVC\\nfrom sklearn.metrics import classification_report\\nfrom vaderSentiment.vaderSentiment import SentimentIntensityAnalyzer\\n\\n#df = pd.read_csv('tweet_emotions.csv')\\ndf = pd.read_csv('emotion_sentimen_dataset.csv')\\n\\ntry:\\n    # ? Relative path starts the place where file is executed not where the file is present.\\n    # ! do not run this python file from this directory\\n    # ! run the file from the root directory of the project.\\n    df = pd.concat(\\n        map(\\n            pd.read_csv,\\n            [\\n                'tweet_emotions.csv',\\n                'emotion_sentimen_dataset.csv'\\n                \\n                \\n            ],\\n        ),\\n        ignore_index=True\\n    )\\nexcept Exception as error:\\n    print(error)\\n    exit()\\n\\n\\n\\nanalyzer = SentimentIntensityAnalyzer()\\n\\ndef map_intensity_to_emotion(score):\\n    if score >= 0.5:\\n        return 'joy'\\n    elif score >= 0.05 and score < 0.5:\\n        return 'pleasant'\\n    elif score >= -0.05 and score < 0.05:\\n        return 'neutral'\\n    elif score > -0.5 and score < -0.05:\\n        return 'disappointed'\\n    else:\\n        return 'sad'\\n\\ndf['vader_score'] = df['text'].apply(lambda text: analyzer.polarity_scores(text)['compound'])\\n\\ndf['emotion'] = df['vader_score'].apply(map_intensity_to_emotion)\\n\\ndf['text'] = df['text'].str.lower()\\n\\nvectorizer = TfidfVectorizer(max_features=5000, stop_words='english')\\nX = vectorizer.fit_transform(df['text'])\\ny = df['emotion']\\n\\nX_train, X_test, y_train, y_test = train_test_split(X, y, test_size=0.2, random_state=42)\\n\\nclf = SVC(kernel='linear', random_state=42)  \\nclf.fit(X_train, y_train)\\n\\ny_pred = clf.predict(X_test)\\n\\nprint(classification_report(y_test, y_pred))\\n\""
      ]
     },
     "execution_count": 1,
     "metadata": {},
     "output_type": "execute_result"
    }
   ],
   "source": [
    "'''import pandas as pd\n",
    "from sklearn.model_selection import train_test_split\n",
    "from sklearn.feature_extraction.text import TfidfVectorizer\n",
    "from sklearn.svm import SVC\n",
    "from sklearn.metrics import classification_report\n",
    "from vaderSentiment.vaderSentiment import SentimentIntensityAnalyzer\n",
    "\n",
    "#df = pd.read_csv('tweet_emotions.csv')\n",
    "df = pd.read_csv('emotion_sentimen_dataset.csv')\n",
    "\n",
    "\n",
    "\n",
    "analyzer = SentimentIntensityAnalyzer()\n",
    "\n",
    "def map_intensity_to_emotion(score):\n",
    "    if score >= 0.5:\n",
    "        return 'joy'\n",
    "    elif score >= 0.05 and score < 0.5:\n",
    "        return 'pleasant'\n",
    "    elif score >= -0.05 and score < 0.05:\n",
    "        return 'neutral'\n",
    "    elif score > -0.5 and score < -0.05:\n",
    "        return 'disappointed'\n",
    "    else:\n",
    "        return 'sad'\n",
    "\n",
    "df['vader_score'] = df['text'].apply(lambda text: analyzer.polarity_scores(text)['compound'])\n",
    "\n",
    "df['emotion'] = df['vader_score'].apply(map_intensity_to_emotion)\n",
    "\n",
    "df['text'] = df['text'].str.lower()\n",
    "\n",
    "vectorizer = TfidfVectorizer(max_features=5000, stop_words='english')\n",
    "X = vectorizer.fit_transform(df['text'])\n",
    "y = df['emotion']\n",
    "\n",
    "X_train, X_test, y_train, y_test = train_test_split(X, y, test_size=0.2, random_state=42)\n",
    "\n",
    "clf = SVC(kernel='linear', random_state=42)  \n",
    "clf.fit(X_train, y_train)\n",
    "\n",
    "y_pred = clf.predict(X_test)\n",
    "\n",
    "print(classification_report(y_test, y_pred))\n",
    "'''"
   ]
  },
  {
   "cell_type": "code",
   "execution_count": null,
   "id": "32375252-9456-419c-8ecb-39b40f5d980e",
   "metadata": {},
   "outputs": [],
   "source": [
    "import pandas as pd\n",
    "from sklearn.model_selection import train_test_split\n",
    "from sklearn.feature_extraction.text import TfidfVectorizer\n",
    "from sklearn.svm import SVC\n",
    "from sklearn.metrics import classification_report\n",
    "from vaderSentiment.vaderSentiment import SentimentIntensityAnalyzer\n",
    "import pickle\n",
    "\n",
    "\n",
    "df = pd.read_csv('emotion_sentimen_dataset.csv')\n",
    "\n",
    "sampled_df = df.sample(frac=0.3, random_state=42)\n",
    "\n",
    "def map_intensity_to_emotion(score):\n",
    "    if score >= 0.5:\n",
    "        return 'joy'\n",
    "    elif score >= 0.05 and score < 0.5:\n",
    "        return 'pleasant'\n",
    "    elif score >= -0.05 and score < 0.05:\n",
    "        return 'neutral'\n",
    "    elif score > -0.5 and score < -0.05:\n",
    "        return 'disappointed'\n",
    "    else:\n",
    "        return 'sad'\n",
    "        \n",
    "analyzer = SentimentIntensityAnalyzer()\n",
    "sampled_df['vader_score'] = sampled_df['text'].apply(lambda text: analyzer.polarity_scores(text)['compound'])\n",
    "sampled_df['emotion'] = sampled_df['vader_score'].apply(map_intensity_to_emotion)\n",
    "\n",
    "sampled_df['text'] = sampled_df['text'].str.lower()\n",
    "\n",
    "vectorizer = TfidfVectorizer(max_features=1000, stop_words='english')\n",
    "X = vectorizer.fit_transform(sampled_df['text'])\n",
    "y = sampled_df['emotion']\n",
    "\n",
    "X_train, X_test, y_train, y_test = train_test_split(X, y, test_size=0.2, random_state=42)\n",
    "\n",
    "clf = SVC(kernel='linear', random_state=42)  \n",
    "clf.fit(X_train, y_train)\n",
    "\n",
    "with open('sentiment_model.pkl', 'wb') as f:\n",
    "    pickle.dump(clf, f)\n",
    "\n",
    "\n",
    "clf = pickle.load(open('sentiment_model.pkl', 'rb'))\n",
    "\n",
    "\n",
    "y_pred = clf.predict(X_test)\n",
    "\n",
    "\n",
    "print(classification_report(y_test, y_pred))\n"
   ]
  },
  {
   "cell_type": "code",
   "execution_count": 4,
   "id": "da2bb579-c10d-47b9-bce9-9d1667cf54bd",
   "metadata": {},
   "outputs": [
    {
     "name": "stdout",
     "output_type": "stream",
     "text": [
      "Predicted Emotion: ['sad']\n"
     ]
    }
   ],
   "source": [
    "text_input = \"this product is bad\"\n",
    "text_input = text_input.lower()\n",
    "\n",
    "text_feature_vector = vectorizer.transform([text_input])\n",
    "\n",
    "predicted_emotion = clf.predict(text_feature_vector)\n",
    "\n",
    "print(\"Predicted Emotion:\", predicted_emotion)\n"
   ]
  },
  {
   "cell_type": "code",
   "execution_count": null,
   "id": "f2d8e998-7f86-442c-9d8b-0b37fa2f7d93",
   "metadata": {},
   "outputs": [],
   "source": []
  },
  {
   "cell_type": "code",
   "execution_count": null,
   "id": "8d470eb6-752a-4643-affa-c2759eb8c4fb",
   "metadata": {},
   "outputs": [],
   "source": []
  }
 ],
 "metadata": {
  "kernelspec": {
   "display_name": "Python 3 (ipykernel)",
   "language": "python",
   "name": "python3"
  },
  "language_info": {
   "codemirror_mode": {
    "name": "ipython",
    "version": 3
   },
   "file_extension": ".py",
   "mimetype": "text/x-python",
   "name": "python",
   "nbconvert_exporter": "python",
   "pygments_lexer": "ipython3",
   "version": "3.11.7"
  },
  "widgets": {
   "application/vnd.jupyter.widget-state+json": {
    "state": {},
    "version_major": 2,
    "version_minor": 0
   }
  }
 },
 "nbformat": 4,
 "nbformat_minor": 5
}
