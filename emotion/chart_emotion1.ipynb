{
 "cells": [
  {
   "cell_type": "code",
   "execution_count": 3,
   "id": "0b35c623-8f46-4d68-bdf2-300aad6c7921",
   "metadata": {},
   "outputs": [
    {
     "name": "stdin",
     "output_type": "stream",
     "text": [
      "Enter the text to analyze sentiment:  the product was average\n"
     ]
    },
    {
     "data": {
      "image/png": "[encoded data removed]",
      "text/plain": [
       "<Figure size 200x200 with 1 Axes>"
      ]
     },
     "metadata": {},
     "output_type": "display_data"
    },
    {
     "name": "stdout",
     "output_type": "stream",
     "text": [
      "Detected Emotion: neutral\n"
     ]
    }
   ],
   "source": [
    "import matplotlib.pyplot as plt\n",
    "\n",
    "from vaderSentiment.vaderSentiment import SentimentIntensityAnalyzer\n",
    "\n",
    "\n",
    "analyzer = SentimentIntensityAnalyzer()\n",
    "\n",
    "\n",
    "def map_intensity_to_emotion(score):\n",
    "    if score >= 0.5:\n",
    "        return 'joy'\n",
    "    elif score >= 0.05 and score < 0.5:\n",
    "        return 'pleasant'\n",
    "    elif score >= -0.05 and score < 0.05:\n",
    "        return 'neutral'\n",
    "    elif score > -0.5 and score < -0.05:\n",
    "        return 'disappointed'\n",
    "    else:\n",
    "        return 'sad'\n",
    "\n",
    "\n",
    "def analyze_sentiment(text):\n",
    "    \n",
    "    vader_scores = analyzer.polarity_scores(text)\n",
    "    \n",
    "    emotion = map_intensity_to_emotion(vader_scores['compound'])\n",
    "    return vader_scores, emotion\n",
    "\n",
    "text = input(\"Enter the text to analyze sentiment: \")\n",
    "vader_scores, emotion = analyze_sentiment(text)\n",
    "\n",
    "color = 'grey'\n",
    "alpha = 1.0\n",
    "if vader_scores['compound'] >= 0.1:\n",
    "    color = 'green'\n",
    "    alpha = 0.7  \n",
    "elif vader_scores['compound'] <= -0.1:\n",
    "    color = 'red'\n",
    "    alpha = 0.9  \n",
    "\n",
    "\n",
    "plt.figure(figsize=(2, 2))\n",
    "plt.bar(emotion, vader_scores['compound'], color=color, alpha=alpha)\n",
    "plt.xlabel('Emotion')\n",
    "plt.ylabel('Intensity Score')\n",
    "plt.title(f'Intensity of {emotion.capitalize()} in the Text')\n",
    "plt.axhline(0, color='black', linestyle='--', linewidth=0.5)  \n",
    "plt.xlim(-1, 1)  \n",
    "plt.ylim(-1, 1) \n",
    "plt.show()\n",
    "\n",
    "print(\"Detected Emotion:\", emotion)\n"
   ]
  },
  {
   "cell_type": "code",
   "execution_count": null,
   "id": "5834901e-e845-4bd7-88b5-a8c2b09b856e",
   "metadata": {},
   "outputs": [],
   "source": []
  }
 ],
 "metadata": {
  "kernelspec": {
   "display_name": "Python 3 (ipykernel)",
   "language": "python",
   "name": "python3"
  },
  "language_info": {
   "codemirror_mode": {
    "name": "ipython",
    "version": 3
   },
   "file_extension": ".py",
   "mimetype": "text/x-python",
   "name": "python",
   "nbconvert_exporter": "python",
   "pygments_lexer": "ipython3",
   "version": "3.11.7"
  },
  "widgets": {
   "application/vnd.jupyter.widget-state+json": {
    "state": {},
    "version_major": 2,
    "version_minor": 0
   }
  }
 },
 "nbformat": 4,
 "nbformat_minor": 5
}
