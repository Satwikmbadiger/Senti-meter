{
 "cells": [
  {
   "cell_type": "code",
   "execution_count": 5,
   "id": "1809bcd9-def8-460a-8b74-7609ee4e2c33",
   "metadata": {},
   "outputs": [
    {
     "name": "stdout",
     "output_type": "stream",
     "text": [
      "Emotions: ['sadness', 'not joy']\n"
     ]
    }
   ],
   "source": [
    "import pandas as pd\n",
    "import re\n",
    "\n",
    "\n",
    "custom_lexicon = pd.read_csv('custom_lexicon.csv')\n",
    "\n",
    "\n",
    "def get_emotions(text):\n",
    "    emotions = []\n",
    "    for word in text.split():\n",
    "        \n",
    "        matches = custom_lexicon[custom_lexicon['word'] == word]\n",
    "        if not matches.empty:\n",
    "            emotions.extend(matches['emotion'])\n",
    "    return emotions\n",
    "\n",
    "sentence = \"I feel sad and am Not excited and unhappy about this project.\"\n",
    "words = re.findall(r'\\b\\w+\\b', sentence.lower())  \n",
    "\n",
    "flag = 0\n",
    "emotions = []\n",
    "for i in words:\n",
    "    if i in ['not', \"n't\", \"don't\", \"un\"]:\n",
    "        flag = 1\n",
    "    elif flag and i in custom_lexicon['word'].values:\n",
    "        emotions.extend(['not ' + e for e in get_emotions(i)])  # Negate emotions\n",
    "        flag = 0\n",
    "    else:\n",
    "        emotions.extend(get_emotions(i))\n",
    "        flag = 0\n",
    "\n",
    "print(\"Emotions:\", emotions)\n"
   ]
  },
  {
   "cell_type": "code",
   "execution_count": null,
   "id": "03d7b3aa-c89a-4a03-a516-01c28cc3bd88",
   "metadata": {},
   "outputs": [],
   "source": []
  }
 ],
 "metadata": {
  "kernelspec": {
   "display_name": "Python 3 (ipykernel)",
   "language": "python",
   "name": "python3"
  },
  "language_info": {
   "codemirror_mode": {
    "name": "ipython",
    "version": 3
   },
   "file_extension": ".py",
   "mimetype": "text/x-python",
   "name": "python",
   "nbconvert_exporter": "python",
   "pygments_lexer": "ipython3",
   "version": "3.11.7"
  },
  "widgets": {
   "application/vnd.jupyter.widget-state+json": {
    "state": {},
    "version_major": 2,
    "version_minor": 0
   }
  }
 },
 "nbformat": 4,
 "nbformat_minor": 5
}
