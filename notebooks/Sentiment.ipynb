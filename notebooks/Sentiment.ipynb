{
 "cells": [
  {
   "cell_type": "code",
   "execution_count": 1,
   "id": "56700b49-e0b0-4c60-bfc1-e1fb458f14a8",
   "metadata": {},
   "outputs": [
    {
     "name": "stdout",
     "output_type": "stream",
     "text": [
      "Installing pandas...\n",
      "Resolving pandas...\n",
      "[    ] Installing...\n",
      "Installation Succeeded\n",
      "[    ] Installing pandas...\n",
      "[    ] Installing pandas...\n",
      "\n",
      "Installing seaborn...\n",
      "Resolving seaborn...\n",
      "[    ] Installing...\n",
      "Installation Succeeded\n",
      "[    ] Installing seaborn...\n",
      "[    ] Installing seaborn...\n",
      "\n",
      "Installing matplotlib...\n",
      "Resolving matplotlib...\n",
      "[    ] Installing...\n",
      "Installation Succeeded\n",
      "[    ] Installing matplotlib...\n",
      "[    ] Installing matplotlib...\n",
      "\n",
      "Installing textblob...\n",
      "Resolving textblob...\n",
      "[    ] Installing...\n",
      "Installation Succeeded\n",
      "[    ] Installing textblob...\n",
      "[    ] Installing textblob...\n",
      "\n",
      "Installing scikit-learn...\n",
      "Resolving scikit-learn...\n",
      "[    ] Installing...\n",
      "Installation Succeeded\n",
      "[    ] Installing scikit-learn...\n",
      "[    ] Installing scikit-learn...\n",
      "\n",
      "Installing nltk...\n",
      "Resolving nltk...\n",
      "[    ] Installing...\n",
      "Installation Succeeded\n",
      "[    ] Installing nltk...\n",
      "[    ] Installing nltk...\n",
      "\n",
      "Installing numpy...\n",
      "Resolving numpy...\n",
      "[    ] Installing...\n",
      "Installation Succeeded\n",
      "[    ] Installing numpy...\n",
      "[    ] Installing numpy...\n",
      "\n",
      "Installing dependencies from Pipfile.lock (b1cb81)...\n"
     ]
    }
   ],
   "source": [
    "# installing the required packages.\n",
    "!pipenv install pandas seaborn matplotlib textblob scikit-learn nltk numpy"
   ]
  },
  {
   "cell_type": "code",
   "execution_count": 2,
   "id": "a5ea2267-9b5d-46e6-84b7-462d14605f15",
   "metadata": {},
   "outputs": [],
   "source": [
    "# importing packages.\n",
    "import pandas as pd\n",
    "import seaborn as sns\n",
    "import matplotlib.pyplot as plt\n",
    "from textblob import TextBlob\n",
    "import numpy as np\n",
    "from nltk.corpus import stopwords\n",
    "from nltk.stem.porter import PorterStemmer\n",
    "from sklearn.feature_extraction.text import TfidfVectorizer\n",
    "from sklearn.model_selection import train_test_split\n",
    "from sklearn.linear_model import LogisticRegression\n",
    "from sklearn.metrics import accuracy_score\n",
    "import re\n",
    "import pickle"
   ]
  },
  {
   "cell_type": "code",
   "execution_count": 3,
   "id": "ee1c34b0-5c6b-4f96-9c76-721924ccae85",
   "metadata": {},
   "outputs": [
    {
     "data": {
      "text/html": [
       "<div>\n",
       "<style scoped>\n",
       "    .dataframe tbody tr th:only-of-type {\n",
       "        vertical-align: middle;\n",
       "    }\n",
       "\n",
       "    .dataframe tbody tr th {\n",
       "        vertical-align: top;\n",
       "    }\n",
       "\n",
       "    .dataframe thead th {\n",
       "        text-align: right;\n",
       "    }\n",
       "</style>\n",
       "<table border=\"1\" class=\"dataframe\">\n",
       "  <thead>\n",
       "    <tr style=\"text-align: right;\">\n",
       "      <th></th>\n",
       "      <th>Year</th>\n",
       "      <th>Month</th>\n",
       "      <th>Day</th>\n",
       "      <th>Time of Tweet</th>\n",
       "      <th>text</th>\n",
       "      <th>sentiment</th>\n",
       "      <th>Platform</th>\n",
       "    </tr>\n",
       "  </thead>\n",
       "  <tbody>\n",
       "    <tr>\n",
       "      <th>0</th>\n",
       "      <td>2018</td>\n",
       "      <td>8</td>\n",
       "      <td>18</td>\n",
       "      <td>morning</td>\n",
       "      <td>What a great day!!! Looks like dream.</td>\n",
       "      <td>positive</td>\n",
       "      <td>Twitter</td>\n",
       "    </tr>\n",
       "    <tr>\n",
       "      <th>1</th>\n",
       "      <td>2018</td>\n",
       "      <td>8</td>\n",
       "      <td>18</td>\n",
       "      <td>noon</td>\n",
       "      <td>I feel sorry, I miss you here in the sea beach</td>\n",
       "      <td>positive</td>\n",
       "      <td>Facebook</td>\n",
       "    </tr>\n",
       "    <tr>\n",
       "      <th>2</th>\n",
       "      <td>2017</td>\n",
       "      <td>8</td>\n",
       "      <td>18</td>\n",
       "      <td>night</td>\n",
       "      <td>Don't angry me</td>\n",
       "      <td>negative</td>\n",
       "      <td>Facebook</td>\n",
       "    </tr>\n",
       "    <tr>\n",
       "      <th>3</th>\n",
       "      <td>2022</td>\n",
       "      <td>6</td>\n",
       "      <td>8</td>\n",
       "      <td>morning</td>\n",
       "      <td>We attend in the class just for listening teac...</td>\n",
       "      <td>negative</td>\n",
       "      <td>Facebook</td>\n",
       "    </tr>\n",
       "    <tr>\n",
       "      <th>4</th>\n",
       "      <td>2022</td>\n",
       "      <td>6</td>\n",
       "      <td>8</td>\n",
       "      <td>noon</td>\n",
       "      <td>Those who want to go, let them go</td>\n",
       "      <td>negative</td>\n",
       "      <td>Instagram</td>\n",
       "    </tr>\n",
       "  </tbody>\n",
       "</table>\n",
       "</div>"
      ],
      "text/plain": [
       "   Year  Month  Day Time of Tweet  \\\n",
       "0  2018      8   18       morning   \n",
       "1  2018      8   18          noon   \n",
       "2  2017      8   18         night   \n",
       "3  2022      6    8       morning   \n",
       "4  2022      6    8          noon   \n",
       "\n",
       "                                                text sentiment     Platform  \n",
       "0              What a great day!!! Looks like dream.  positive    Twitter    \n",
       "1     I feel sorry, I miss you here in the sea beach  positive    Facebook   \n",
       "2                                     Don't angry me  negative     Facebook  \n",
       "3  We attend in the class just for listening teac...  negative    Facebook   \n",
       "4                  Those who want to go, let them go  negative   Instagram   "
      ]
     },
     "execution_count": 3,
     "metadata": {},
     "output_type": "execute_result"
    }
   ],
   "source": [
    "# loading the dataset.\n",
    "df = pd.read_csv('../datasets\\\\sentiment_analysis.csv')\n",
    "df.head()"
   ]
  },
  {
   "cell_type": "code",
   "execution_count": 4,
   "id": "d2f10833-d093-4496-9f3e-d521309624e7",
   "metadata": {},
   "outputs": [
    {
     "data": {
      "text/plain": [
       "0                What a great day!!! Looks like dream.\n",
       "1       I feel sorry, I miss you here in the sea beach\n",
       "2                                       Don't angry me\n",
       "3    We attend in the class just for listening teac...\n",
       "4                    Those who want to go, let them go\n",
       "Name: text, dtype: object"
      ]
     },
     "execution_count": 4,
     "metadata": {},
     "output_type": "execute_result"
    }
   ],
   "source": [
    "texts = df['text']\n",
    "texts.head()"
   ]
  },
  {
   "cell_type": "code",
   "execution_count": 5,
   "id": "fea7d15a-cd5a-4cdb-a02d-a6009e9e97cc",
   "metadata": {},
   "outputs": [
    {
     "name": "stdout",
     "output_type": "stream",
     "text": [
      "What a great day!!! Looks like dream.\n"
     ]
    }
   ],
   "source": [
    "print(texts.loc[texts.index[0]])"
   ]
  },
  {
   "cell_type": "code",
   "execution_count": 6,
   "id": "d777a605-cbc5-4e41-a8d2-434dce75c4f3",
   "metadata": {},
   "outputs": [],
   "source": [
    "blob1 = TextBlob( texts.loc[texts.index[0]] )\n",
    "blob2 = TextBlob( texts.loc[texts.index[2]] )"
   ]
  },
  {
   "cell_type": "code",
   "execution_count": 7,
   "id": "f3746927-f998-478b-b2a0-1103be97013a",
   "metadata": {},
   "outputs": [
    {
     "name": "stdout",
     "output_type": "stream",
     "text": [
      "Sentiment(polarity=1.0, subjectivity=0.75)\n",
      "Sentiment(polarity=-0.5, subjectivity=1.0)\n"
     ]
    }
   ],
   "source": [
    "print( blob1.sentiment )\n",
    "print( blob2.sentiment )"
   ]
  },
  {
   "cell_type": "code",
   "execution_count": 8,
   "id": "2d898895-2ada-40b5-be21-7515953bc0e8",
   "metadata": {},
   "outputs": [
    {
     "name": "stdout",
     "output_type": "stream",
     "text": [
      "['i', 'me', 'my', 'myself', 'we', 'our', 'ours', 'ourselves', 'you', \"you're\", \"you've\", \"you'll\", \"you'd\", 'your', 'yours', 'yourself', 'yourselves', 'he', 'him', 'his', 'himself', 'she', \"she's\", 'her', 'hers', 'herself', 'it', \"it's\", 'its', 'itself', 'they', 'them', 'their', 'theirs', 'themselves', 'what', 'which', 'who', 'whom', 'this', 'that', \"that'll\", 'these', 'those', 'am', 'is', 'are', 'was', 'were', 'be', 'been', 'being', 'have', 'has', 'had', 'having', 'do', 'does', 'did', 'doing', 'a', 'an', 'the', 'and', 'but', 'if', 'or', 'because', 'as', 'until', 'while', 'of', 'at', 'by', 'for', 'with', 'about', 'against', 'between', 'into', 'through', 'during', 'before', 'after', 'above', 'below', 'to', 'from', 'up', 'down', 'in', 'out', 'on', 'off', 'over', 'under', 'again', 'further', 'then', 'once', 'here', 'there', 'when', 'where', 'why', 'how', 'all', 'any', 'both', 'each', 'few', 'more', 'most', 'other', 'some', 'such', 'no', 'nor', 'not', 'only', 'own', 'same', 'so', 'than', 'too', 'very', 's', 't', 'can', 'will', 'just', 'don', \"don't\", 'should', \"should've\", 'now', 'd', 'll', 'm', 'o', 're', 've', 'y', 'ain', 'aren', \"aren't\", 'couldn', \"couldn't\", 'didn', \"didn't\", 'doesn', \"doesn't\", 'hadn', \"hadn't\", 'hasn', \"hasn't\", 'haven', \"haven't\", 'isn', \"isn't\", 'ma', 'mightn', \"mightn't\", 'mustn', \"mustn't\", 'needn', \"needn't\", 'shan', \"shan't\", 'shouldn', \"shouldn't\", 'wasn', \"wasn't\", 'weren', \"weren't\", 'won', \"won't\", 'wouldn', \"wouldn't\"]\n"
     ]
    },
    {
     "name": "stderr",
     "output_type": "stream",
     "text": [
      "[nltk_data] Downloading package stopwords to\n",
      "[nltk_data]     C:\\Users\\Home\\AppData\\Roaming\\nltk_data...\n",
      "[nltk_data]   Package stopwords is already up-to-date!\n"
     ]
    }
   ],
   "source": [
    "# importing stopwords.\n",
    "import nltk\n",
    "nltk.download('stopwords')\n",
    "print(stopwords.words('english'))"
   ]
  },
  {
   "cell_type": "code",
   "execution_count": 9,
   "id": "2cdcbdfa-a1fd-4e22-a4ba-0be60e4ab093",
   "metadata": {},
   "outputs": [
    {
     "data": {
      "text/plain": [
       "(499, 7)"
      ]
     },
     "execution_count": 9,
     "metadata": {},
     "output_type": "execute_result"
    }
   ],
   "source": [
    "df.shape"
   ]
  },
  {
   "cell_type": "code",
   "execution_count": 10,
   "id": "6ee7055b-9252-4a4e-81c4-29a15be8be69",
   "metadata": {},
   "outputs": [
    {
     "data": {
      "text/plain": [
       "Year             0\n",
       "Month            0\n",
       "Day              0\n",
       "Time of Tweet    0\n",
       "text             0\n",
       "sentiment        0\n",
       "Platform         0\n",
       "dtype: int64"
      ]
     },
     "execution_count": 10,
     "metadata": {},
     "output_type": "execute_result"
    }
   ],
   "source": [
    "df.isnull().sum()"
   ]
  },
  {
   "cell_type": "code",
   "execution_count": 11,
   "id": "a5772b30-19b5-4774-bb78-d933225bbb59",
   "metadata": {},
   "outputs": [
    {
     "data": {
      "text/plain": [
       "sentiment\n",
       "neutral     199\n",
       "positive    166\n",
       "negative    134\n",
       "Name: count, dtype: int64"
      ]
     },
     "execution_count": 11,
     "metadata": {},
     "output_type": "execute_result"
    }
   ],
   "source": [
    "df['sentiment'].value_counts()"
   ]
  },
  {
   "cell_type": "code",
   "execution_count": 12,
   "id": "ffb1debb-4449-4446-a09a-ae1d99701500",
   "metadata": {},
   "outputs": [
    {
     "data": {
      "text/html": [
       "<div>\n",
       "<style scoped>\n",
       "    .dataframe tbody tr th:only-of-type {\n",
       "        vertical-align: middle;\n",
       "    }\n",
       "\n",
       "    .dataframe tbody tr th {\n",
       "        vertical-align: top;\n",
       "    }\n",
       "\n",
       "    .dataframe thead th {\n",
       "        text-align: right;\n",
       "    }\n",
       "</style>\n",
       "<table border=\"1\" class=\"dataframe\">\n",
       "  <thead>\n",
       "    <tr style=\"text-align: right;\">\n",
       "      <th></th>\n",
       "      <th>Year</th>\n",
       "      <th>Month</th>\n",
       "      <th>Day</th>\n",
       "      <th>Time of Tweet</th>\n",
       "      <th>text</th>\n",
       "      <th>sentiment</th>\n",
       "      <th>Platform</th>\n",
       "      <th>result</th>\n",
       "    </tr>\n",
       "  </thead>\n",
       "  <tbody>\n",
       "    <tr>\n",
       "      <th>0</th>\n",
       "      <td>2018</td>\n",
       "      <td>8</td>\n",
       "      <td>18</td>\n",
       "      <td>morning</td>\n",
       "      <td>What a great day!!! Looks like dream.</td>\n",
       "      <td>positive</td>\n",
       "      <td>Twitter</td>\n",
       "      <td>1</td>\n",
       "    </tr>\n",
       "    <tr>\n",
       "      <th>1</th>\n",
       "      <td>2018</td>\n",
       "      <td>8</td>\n",
       "      <td>18</td>\n",
       "      <td>noon</td>\n",
       "      <td>I feel sorry, I miss you here in the sea beach</td>\n",
       "      <td>positive</td>\n",
       "      <td>Facebook</td>\n",
       "      <td>1</td>\n",
       "    </tr>\n",
       "    <tr>\n",
       "      <th>2</th>\n",
       "      <td>2017</td>\n",
       "      <td>8</td>\n",
       "      <td>18</td>\n",
       "      <td>night</td>\n",
       "      <td>Don't angry me</td>\n",
       "      <td>negative</td>\n",
       "      <td>Facebook</td>\n",
       "      <td>-1</td>\n",
       "    </tr>\n",
       "    <tr>\n",
       "      <th>3</th>\n",
       "      <td>2022</td>\n",
       "      <td>6</td>\n",
       "      <td>8</td>\n",
       "      <td>morning</td>\n",
       "      <td>We attend in the class just for listening teac...</td>\n",
       "      <td>negative</td>\n",
       "      <td>Facebook</td>\n",
       "      <td>-1</td>\n",
       "    </tr>\n",
       "    <tr>\n",
       "      <th>4</th>\n",
       "      <td>2022</td>\n",
       "      <td>6</td>\n",
       "      <td>8</td>\n",
       "      <td>noon</td>\n",
       "      <td>Those who want to go, let them go</td>\n",
       "      <td>negative</td>\n",
       "      <td>Instagram</td>\n",
       "      <td>-1</td>\n",
       "    </tr>\n",
       "  </tbody>\n",
       "</table>\n",
       "</div>"
      ],
      "text/plain": [
       "   Year  Month  Day Time of Tweet  \\\n",
       "0  2018      8   18       morning   \n",
       "1  2018      8   18          noon   \n",
       "2  2017      8   18         night   \n",
       "3  2022      6    8       morning   \n",
       "4  2022      6    8          noon   \n",
       "\n",
       "                                                text sentiment     Platform  \\\n",
       "0              What a great day!!! Looks like dream.  positive    Twitter     \n",
       "1     I feel sorry, I miss you here in the sea beach  positive    Facebook    \n",
       "2                                     Don't angry me  negative     Facebook   \n",
       "3  We attend in the class just for listening teac...  negative    Facebook    \n",
       "4                  Those who want to go, let them go  negative   Instagram    \n",
       "\n",
       "   result  \n",
       "0       1  \n",
       "1       1  \n",
       "2      -1  \n",
       "3      -1  \n",
       "4      -1  "
      ]
     },
     "execution_count": 12,
     "metadata": {},
     "output_type": "execute_result"
    }
   ],
   "source": [
    "# mapping each sentiment with a number.\n",
    "mapping = {'neutral': 0, 'positive': 1, 'negative': -1}\n",
    "df['result'] = df['sentiment'].map(mapping)\n",
    "df.head()"
   ]
  },
  {
   "cell_type": "code",
   "execution_count": 13,
   "id": "3c976668-d4b1-425a-bc56-a3fff53fbe6a",
   "metadata": {},
   "outputs": [
    {
     "data": {
      "text/plain": [
       "(array([134.,   0.,   0.,   0.,   0.,   0.,   0., 199.,   0.,   0.,   0.,\n",
       "          0.,   0.,   0., 166.]),\n",
       " array([-1.        , -0.86666667, -0.73333333, -0.6       , -0.46666667,\n",
       "        -0.33333333, -0.2       , -0.06666667,  0.06666667,  0.2       ,\n",
       "         0.33333333,  0.46666667,  0.6       ,  0.73333333,  0.86666667,\n",
       "         1.        ]),\n",
       " <BarContainer object of 15 artists>)"
      ]
     },
     "execution_count": 13,
     "metadata": {},
     "output_type": "execute_result"
    },
    {
     "data": {
      "image/png": "[encoded data removed]",
      "text/plain": [
       "<Figure size 640x480 with 1 Axes>"
      ]
     },
     "metadata": {},
     "output_type": "display_data"
    }
   ],
   "source": [
    "# ploting the count of sentiments.\n",
    "plt.hist(df['result'], color='lightgreen', ec='black', bins=15)"
   ]
  },
  {
   "cell_type": "code",
   "execution_count": 14,
   "id": "2a523dbf-4c42-43a7-8d2e-2556e279413d",
   "metadata": {},
   "outputs": [],
   "source": [
    "port_stem = PorterStemmer()"
   ]
  },
  {
   "cell_type": "code",
   "execution_count": 15,
   "id": "84123c24-f883-460c-9dfd-2cdbf8d89bbd",
   "metadata": {},
   "outputs": [],
   "source": [
    "# Removing stopwords and stemming the words in each data.\n",
    "def stemming( content ):\n",
    "    stemmed_content = re.sub('[^a-zA-Z]',' ',content) \n",
    "    stemmed_content = stemmed_content.lower()\n",
    "    stemmed_content = stemmed_content.split()\n",
    "    stemmed_content = [port_stem.stem(word) for word in stemmed_content if not word in stopwords.words('english')]\n",
    "    stemmed_content = ' '.join(stemmed_content)\n",
    "    return stemmed_content"
   ]
  },
  {
   "cell_type": "code",
   "execution_count": 16,
   "id": "3933fe9e-76cd-471c-bd6f-bdec2f1b6e93",
   "metadata": {},
   "outputs": [],
   "source": [
    "# calling the stemming function.\n",
    "df['stemmed_content'] = df['text'].apply(stemming)"
   ]
  },
  {
   "cell_type": "code",
   "execution_count": 17,
   "id": "5d5673ca-41b6-408f-9edf-c44037c18037",
   "metadata": {},
   "outputs": [
    {
     "data": {
      "text/html": [
       "<div>\n",
       "<style scoped>\n",
       "    .dataframe tbody tr th:only-of-type {\n",
       "        vertical-align: middle;\n",
       "    }\n",
       "\n",
       "    .dataframe tbody tr th {\n",
       "        vertical-align: top;\n",
       "    }\n",
       "\n",
       "    .dataframe thead th {\n",
       "        text-align: right;\n",
       "    }\n",
       "</style>\n",
       "<table border=\"1\" class=\"dataframe\">\n",
       "  <thead>\n",
       "    <tr style=\"text-align: right;\">\n",
       "      <th></th>\n",
       "      <th>Year</th>\n",
       "      <th>Month</th>\n",
       "      <th>Day</th>\n",
       "      <th>Time of Tweet</th>\n",
       "      <th>text</th>\n",
       "      <th>sentiment</th>\n",
       "      <th>Platform</th>\n",
       "      <th>result</th>\n",
       "      <th>stemmed_content</th>\n",
       "    </tr>\n",
       "  </thead>\n",
       "  <tbody>\n",
       "    <tr>\n",
       "      <th>0</th>\n",
       "      <td>2018</td>\n",
       "      <td>8</td>\n",
       "      <td>18</td>\n",
       "      <td>morning</td>\n",
       "      <td>What a great day!!! Looks like dream.</td>\n",
       "      <td>positive</td>\n",
       "      <td>Twitter</td>\n",
       "      <td>1</td>\n",
       "      <td>great day look like dream</td>\n",
       "    </tr>\n",
       "    <tr>\n",
       "      <th>1</th>\n",
       "      <td>2018</td>\n",
       "      <td>8</td>\n",
       "      <td>18</td>\n",
       "      <td>noon</td>\n",
       "      <td>I feel sorry, I miss you here in the sea beach</td>\n",
       "      <td>positive</td>\n",
       "      <td>Facebook</td>\n",
       "      <td>1</td>\n",
       "      <td>feel sorri miss sea beach</td>\n",
       "    </tr>\n",
       "    <tr>\n",
       "      <th>2</th>\n",
       "      <td>2017</td>\n",
       "      <td>8</td>\n",
       "      <td>18</td>\n",
       "      <td>night</td>\n",
       "      <td>Don't angry me</td>\n",
       "      <td>negative</td>\n",
       "      <td>Facebook</td>\n",
       "      <td>-1</td>\n",
       "      <td>angri</td>\n",
       "    </tr>\n",
       "    <tr>\n",
       "      <th>3</th>\n",
       "      <td>2022</td>\n",
       "      <td>6</td>\n",
       "      <td>8</td>\n",
       "      <td>morning</td>\n",
       "      <td>We attend in the class just for listening teac...</td>\n",
       "      <td>negative</td>\n",
       "      <td>Facebook</td>\n",
       "      <td>-1</td>\n",
       "      <td>attend class listen teacher read slide nonsenc</td>\n",
       "    </tr>\n",
       "    <tr>\n",
       "      <th>4</th>\n",
       "      <td>2022</td>\n",
       "      <td>6</td>\n",
       "      <td>8</td>\n",
       "      <td>noon</td>\n",
       "      <td>Those who want to go, let them go</td>\n",
       "      <td>negative</td>\n",
       "      <td>Instagram</td>\n",
       "      <td>-1</td>\n",
       "      <td>want go let go</td>\n",
       "    </tr>\n",
       "    <tr>\n",
       "      <th>5</th>\n",
       "      <td>2016</td>\n",
       "      <td>11</td>\n",
       "      <td>22</td>\n",
       "      <td>night</td>\n",
       "      <td>Its night 2 am, feeling neutral</td>\n",
       "      <td>neutral</td>\n",
       "      <td>Facebook</td>\n",
       "      <td>0</td>\n",
       "      <td>night feel neutral</td>\n",
       "    </tr>\n",
       "    <tr>\n",
       "      <th>6</th>\n",
       "      <td>2017</td>\n",
       "      <td>12</td>\n",
       "      <td>28</td>\n",
       "      <td>morning</td>\n",
       "      <td>2 am feedings for the baby are fun when he is ...</td>\n",
       "      <td>positive</td>\n",
       "      <td>Facebook</td>\n",
       "      <td>1</td>\n",
       "      <td>feed babi fun smile coo</td>\n",
       "    </tr>\n",
       "    <tr>\n",
       "      <th>7</th>\n",
       "      <td>2017</td>\n",
       "      <td>12</td>\n",
       "      <td>28</td>\n",
       "      <td>noon</td>\n",
       "      <td>Soooo high</td>\n",
       "      <td>neutral</td>\n",
       "      <td>Instagram</td>\n",
       "      <td>0</td>\n",
       "      <td>soooo high</td>\n",
       "    </tr>\n",
       "    <tr>\n",
       "      <th>8</th>\n",
       "      <td>2019</td>\n",
       "      <td>10</td>\n",
       "      <td>28</td>\n",
       "      <td>night</td>\n",
       "      <td>Both of you</td>\n",
       "      <td>neutral</td>\n",
       "      <td>Twitter</td>\n",
       "      <td>0</td>\n",
       "      <td></td>\n",
       "    </tr>\n",
       "    <tr>\n",
       "      <th>9</th>\n",
       "      <td>2018</td>\n",
       "      <td>5</td>\n",
       "      <td>28</td>\n",
       "      <td>morning</td>\n",
       "      <td>Today first time I arrive in the boat. Its ama...</td>\n",
       "      <td>positive</td>\n",
       "      <td>Facebook</td>\n",
       "      <td>1</td>\n",
       "      <td>today first time arriv boat amaz journey</td>\n",
       "    </tr>\n",
       "  </tbody>\n",
       "</table>\n",
       "</div>"
      ],
      "text/plain": [
       "   Year  Month  Day Time of Tweet  \\\n",
       "0  2018      8   18       morning   \n",
       "1  2018      8   18          noon   \n",
       "2  2017      8   18         night   \n",
       "3  2022      6    8       morning   \n",
       "4  2022      6    8          noon   \n",
       "5  2016     11   22         night   \n",
       "6  2017     12   28       morning   \n",
       "7  2017     12   28          noon   \n",
       "8  2019     10   28         night   \n",
       "9  2018      5   28       morning   \n",
       "\n",
       "                                                text sentiment     Platform  \\\n",
       "0              What a great day!!! Looks like dream.  positive    Twitter     \n",
       "1     I feel sorry, I miss you here in the sea beach  positive    Facebook    \n",
       "2                                     Don't angry me  negative     Facebook   \n",
       "3  We attend in the class just for listening teac...  negative    Facebook    \n",
       "4                  Those who want to go, let them go  negative   Instagram    \n",
       "5                    Its night 2 am, feeling neutral   neutral     Facebook   \n",
       "6  2 am feedings for the baby are fun when he is ...  positive    Facebook    \n",
       "7                                         Soooo high   neutral   Instagram    \n",
       "8                                        Both of you   neutral    Twitter     \n",
       "9  Today first time I arrive in the boat. Its ama...  positive    Facebook    \n",
       "\n",
       "   result                                 stemmed_content  \n",
       "0       1                       great day look like dream  \n",
       "1       1                       feel sorri miss sea beach  \n",
       "2      -1                                           angri  \n",
       "3      -1  attend class listen teacher read slide nonsenc  \n",
       "4      -1                                  want go let go  \n",
       "5       0                              night feel neutral  \n",
       "6       1                         feed babi fun smile coo  \n",
       "7       0                                      soooo high  \n",
       "8       0                                                  \n",
       "9       1        today first time arriv boat amaz journey  "
      ]
     },
     "execution_count": 17,
     "metadata": {},
     "output_type": "execute_result"
    }
   ],
   "source": [
    "df.head(10)"
   ]
  },
  {
   "cell_type": "code",
   "execution_count": 18,
   "id": "a74870d7-8da0-4ff2-b59b-1d9626b547b8",
   "metadata": {},
   "outputs": [],
   "source": [
    "x = df['stemmed_content']\n",
    "y = df['result']"
   ]
  },
  {
   "cell_type": "code",
   "execution_count": 19,
   "id": "1396f545-6e47-4038-a558-47d91347d961",
   "metadata": {},
   "outputs": [],
   "source": [
    "# INtializing vectorizer and ferforming feature extraction and saving it.\n",
    "vector = TfidfVectorizer()\n",
    "pickle.dump(vector, open('../models\\\\vectorizer.pkl', 'wb'))\n",
    "x = vector.fit_transform(x)"
   ]
  },
  {
   "cell_type": "code",
   "execution_count": 20,
   "id": "29c07ba9-6e58-4d15-a614-b4d7757cae99",
   "metadata": {},
   "outputs": [
    {
     "name": "stdout",
     "output_type": "stream",
     "text": [
      "(499, 1137) (349, 1137) (150, 1137)\n",
      "(499,) (349,) (150,)\n"
     ]
    }
   ],
   "source": [
    "# slpliting datasets.\n",
    "x_train, x_test, y_train, y_test = train_test_split(x,y, test_size=0.3,random_state=2)\n",
    "print(x.shape,x_train.shape, x_test.shape)\n",
    "print(y.shape,y_train.shape, y_test.shape)"
   ]
  },
  {
   "cell_type": "code",
   "execution_count": 21,
   "id": "0d31f92e-ae01-4296-ae01-6d490cabbacb",
   "metadata": {},
   "outputs": [
    {
     "name": "stdout",
     "output_type": "stream",
     "text": [
      "(349, 1137)\n",
      "(150, 1137)\n"
     ]
    }
   ],
   "source": [
    "print(x_train.get_shape())\n",
    "print(x_test.get_shape())"
   ]
  },
  {
   "cell_type": "code",
   "execution_count": 22,
   "id": "366d6807-f7c5-4c67-a1e0-d0ef73e9b281",
   "metadata": {},
   "outputs": [],
   "source": [
    "# training and saving the model.\n",
    "model = LogisticRegression(max_iter=1000)\n",
    "model.fit(x_train,y_train)\n",
    "pickle.dump(model, open('../models\\\\Logistic_Regression.pkl', 'wb'))"
   ]
  },
  {
   "cell_type": "code",
   "execution_count": 23,
   "id": "4ecdfa69-a73c-4780-b391-3b2eab8d5f88",
   "metadata": {},
   "outputs": [
    {
     "name": "stdout",
     "output_type": "stream",
     "text": [
      "0.5866666666666667\n"
     ]
    }
   ],
   "source": [
    "#prediction on test data.\n",
    "pred = model.predict(x_test)\n",
    "accuracy = accuracy_score(y_test, pred)\n",
    "print(accuracy)"
   ]
  }
 ],
 "metadata": {
  "kernelspec": {
   "display_name": "Python 3 (ipykernel)",
   "language": "python",
   "name": "python3"
  },
  "language_info": {
   "codemirror_mode": {
    "name": "ipython",
    "version": 3
   },
   "file_extension": ".py",
   "mimetype": "text/x-python",
   "name": "python",
   "nbconvert_exporter": "python",
   "pygments_lexer": "ipython3",
   "version": "3.12.2"
  }
 },
 "nbformat": 4,
 "nbformat_minor": 5
}
