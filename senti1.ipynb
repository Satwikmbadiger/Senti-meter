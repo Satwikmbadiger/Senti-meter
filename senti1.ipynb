{
 "cells": [
  {
   "cell_type": "code",
   "execution_count": 28,
   "id": "cdb4fda3-5d31-4529-884f-aa0be659237d",
   "metadata": {},
   "outputs": [
    {
     "name": "stdout",
     "output_type": "stream",
     "text": [
      "TextBlob Sentiment - Polarity: 0.175 Subjectivity: 0.44999999999999996\n",
      "Textblob Sentiment Neutral\n",
      "vader scores 0.4404\n",
      "VADER Sentiment: Positive\n"
     ]
    }
   ],
   "source": [
    "import pandas as pd\n",
    "import numpy as np\n",
    "import nltk\n",
    "from nltk.sentiment.vader import SentimentIntensityAnalyzer\n",
    "from textblob import TextBlob\n",
    "\n",
    "\n",
    "review_text = \"Average product.Faced a lot of issues, could've been better\"\n",
    "review_text = review_text.lower()\n",
    "\n",
    "\n",
    "analyzer = SentimentIntensityAnalyzer()\n",
    "\n",
    "vader_scores = analyzer.polarity_scores(review_text)\n",
    "vader_sentiment = 'Positive' if vader_scores['compound'] > 0.2 else 'Negative' if vader_scores['compound'] < -0.2 else 'Neutral'\n",
    "vader_scores = analyzer.polarity_scores(review_text)\n",
    "vader_score = vader_scores['compound']\n",
    "\n",
    "\n",
    "textblob_polarity, textblob_subjectivity = TextBlob(review_text_lower).sentiment\n",
    "textblob_senti = 'Positive' if textblob_polarity > 0.2 else 'Negative' if textblob_polarity < -0.2 else 'Neutral'\n",
    "\n",
    "print(\"TextBlob Sentiment - Polarity:\", textblob_polarity, \"Subjectivity:\", textblob_subjectivity)\n",
    "print(\"Textblob Sentiment\", textblob_senti)\n",
    "\n",
    "print(\"vader scores\",vader_scores['compound'])\n",
    "print(\"VADER Sentiment:\", vader_sentiment)\n",
    "\n"
   ]
  },
  {
   "cell_type": "code",
   "execution_count": null,
   "id": "9f56c6a5-4b50-42e7-b6b1-c4221d19e7d0",
   "metadata": {},
   "outputs": [],
   "source": []
  }
 ],
 "metadata": {
  "kernelspec": {
   "display_name": "Python 3 (ipykernel)",
   "language": "python",
   "name": "python3"
  },
  "language_info": {
   "codemirror_mode": {
    "name": "ipython",
    "version": 3
   },
   "file_extension": ".py",
   "mimetype": "text/x-python",
   "name": "python",
   "nbconvert_exporter": "python",
   "pygments_lexer": "ipython3",
   "version": "3.11.7"
  },
  "widgets": {
   "application/vnd.jupyter.widget-state+json": {
    "state": {},
    "version_major": 2,
    "version_minor": 0
   }
  }
 },
 "nbformat": 4,
 "nbformat_minor": 5
}
