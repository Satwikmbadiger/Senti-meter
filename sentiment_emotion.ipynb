{
 "cells": [
  {
   "cell_type": "code",
   "execution_count": 1,
   "id": "918f9c71-b425-4481-b8aa-e96da3155d72",
   "metadata": {},
   "outputs": [
    {
     "name": "stdout",
     "output_type": "stream",
     "text": [
      "              precision    recall  f1-score   support\n",
      "\n",
      "disappointed       0.56      0.45      0.50      1204\n",
      "         joy       0.72      0.81      0.76      2264\n",
      "     not bad       0.77      0.92      0.84      2049\n",
      "    pleasant       0.59      0.50      0.54      1608\n",
      "         sad       0.65      0.50      0.57       875\n",
      "\n",
      "    accuracy                           0.69      8000\n",
      "   macro avg       0.66      0.64      0.64      8000\n",
      "weighted avg       0.68      0.69      0.68      8000\n",
      "\n"
     ]
    }
   ],
   "source": [
    "import pandas as pd\n",
    "from sklearn.model_selection import train_test_split\n",
    "from sklearn.feature_extraction.text import TfidfVectorizer\n",
    "from sklearn.ensemble import RandomForestClassifier\n",
    "from sklearn.metrics import classification_report\n",
    "from vaderSentiment.vaderSentiment import SentimentIntensityAnalyzer\n",
    "import pickle\n",
    "\n",
    "df = pd.read_csv('tweet_emotions.csv')\n",
    "\n",
    "analyzer = SentimentIntensityAnalyzer()\n",
    "\n",
    "def map_intensity_to_emotion(score):\n",
    "    if score >= 0.5:\n",
    "        return 'joy'\n",
    "    elif score >= 0.05 and score < 0.5:\n",
    "        return 'pleasant'\n",
    "    elif score >= -0.05 and score < 0.05:\n",
    "        return 'not bad'\n",
    "    elif score > -0.5 and score < -0.05:\n",
    "        return 'disappointed'\n",
    "    else:\n",
    "        return 'sad'\n",
    "\n",
    "df['vader_score'] = df['content'].apply(lambda text: analyzer.polarity_scores(text)['compound'])\n",
    "\n",
    "df['emotion'] = df['vader_score'].apply(map_intensity_to_emotion)\n",
    "\n",
    "df['content'] = df['content'].str.lower()\n",
    "\n",
    "vectorizer = TfidfVectorizer(max_features=5000, stop_words='english')\n",
    "X = vectorizer.fit_transform(df['content'])\n",
    "y = df['emotion']\n",
    "\n",
    "X_train, X_test, y_train, y_test = train_test_split(X, y, test_size=0.2, random_state=42)\n",
    "\n",
    "clf = RandomForestClassifier(n_estimators=100, random_state=42)\n",
    "clf.fit(X_train, y_train)\n",
    "\n",
    "with open('senti_model.pkl', 'wb') as f:\n",
    "    pickle.dump(clf, f)\n",
    "\n",
    "clf = pickle.load(open('senti_model.pkl', 'rb'))\n",
    "\n",
    "y_pred = clf.predict(X_test)\n",
    "\n",
    "print(classification_report(y_test, y_pred))\n"
   ]
  },
  {
   "cell_type": "code",
   "execution_count": 3,
   "id": "c070ac85-2645-4f76-b119-947d7809a3dc",
   "metadata": {},
   "outputs": [
    {
     "name": "stdout",
     "output_type": "stream",
     "text": [
      "Predicted Emotion: ['sad']\n"
     ]
    }
   ],
   "source": [
    "text_input = \"this product is not bad\"\n",
    "text_input = text_input.lower()\n",
    "\n",
    "text_feature_vector = vectorizer.transform([text_input])\n",
    "\n",
    "predicted_emotion = clf.predict(text_feature_vector)\n",
    "\n",
    "print(\"Predicted Emotion:\", predicted_emotion)\n"
   ]
  },
  {
   "cell_type": "code",
   "execution_count": null,
   "id": "b042d4d9-280b-4bc1-9ec1-c3f9b5f4c799",
   "metadata": {},
   "outputs": [],
   "source": []
  }
 ],
 "metadata": {
  "kernelspec": {
   "display_name": "Python 3 (ipykernel)",
   "language": "python",
   "name": "python3"
  },
  "language_info": {
   "codemirror_mode": {
    "name": "ipython",
    "version": 3
   },
   "file_extension": ".py",
   "mimetype": "text/x-python",
   "name": "python",
   "nbconvert_exporter": "python",
   "pygments_lexer": "ipython3",
   "version": "3.11.7"
  },
  "widgets": {
   "application/vnd.jupyter.widget-state+json": {
    "state": {},
    "version_major": 2,
    "version_minor": 0
   }
  }
 },
 "nbformat": 4,
 "nbformat_minor": 5
}
