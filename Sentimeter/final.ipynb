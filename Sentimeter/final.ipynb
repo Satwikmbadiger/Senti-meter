{
 "cells": [
  {
   "cell_type": "code",
   "execution_count": 22,
   "metadata": {},
   "outputs": [
    {
     "name": "stdout",
     "output_type": "stream",
     "text": [
      "                                                     Text Language      Label\n",
      "0       @Charlie_Corley @Kristine1G @amyklobuchar @Sty...       en  litigious\n",
      "1       #BadBunny: Como dos gotas de agua: Joven se di...       es   negative\n",
      "2       https://t.co/YJNiO0p1JV Flagstar Bank disclose...       en  litigious\n",
      "3       Rwanda is set to host the headquarters of Unit...       en   positive\n",
      "4       OOPS. I typed her name incorrectly (today’s br...       en  litigious\n",
      "...                                                   ...      ...        ...\n",
      "937849            @Juice_Lemons in the dark. it’s so good       en   positive\n",
      "937850  8.SSR &amp; Disha Salian case should be solved...       en   negative\n",
      "937851  *ACCIDENT:  Damage Only* - Raleigh Fire Depart...       en   negative\n",
      "937852  @reblavoie So happy for her! She’s been incred...       en   positive\n",
      "937853                         I'm lost and I'm found but       en   negative\n",
      "\n",
      "[937854 rows x 3 columns]\n"
     ]
    }
   ],
   "source": [
    "import pandas as pd\n",
    "\n",
    "csv_file_path = \"C:\\\\Users\\\\SATWIK M BADIGER\\\\Desktop\\\\projects\\\\ML\\\\Sentimeter\\\\dataset.csv\"\n",
    "\n",
    "df = pd.read_csv(csv_file_path)\n",
    "\n",
    "print(df)"
   ]
  },
  {
   "cell_type": "code",
   "execution_count": 23,
   "metadata": {},
   "outputs": [
    {
     "name": "stdout",
     "output_type": "stream",
     "text": [
      "\n",
      "Missing values:\n",
      "Text         0\n",
      "Language    23\n",
      "Label        0\n",
      "dtype: int64\n"
     ]
    }
   ],
   "source": [
    "#missing values\n",
    "print(\"\\nMissing values:\")\n",
    "print(df.isnull().sum())"
   ]
  },
  {
   "cell_type": "code",
   "execution_count": 24,
   "metadata": {},
   "outputs": [
    {
     "name": "stdout",
     "output_type": "stream",
     "text": [
      "Preprocessed data:\n",
      "                                                Text Language      Label\n",
      "0  @Charlie_Corley @Kristine1G @amyklobuchar @Sty...       en  litigious\n",
      "1  #BadBunny: Como dos gotas de agua: Joven se di...       es   negative\n",
      "2  https://t.co/YJNiO0p1JV Flagstar Bank disclose...       en  litigious\n",
      "3  Rwanda is set to host the headquarters of Unit...       en   positive\n",
      "4  OOPS. I typed her name incorrectly (today’s br...       en  litigious\n"
     ]
    }
   ],
   "source": [
    "print(\"Preprocessed data:\")\n",
    "print(df.head())"
   ]
  },
  {
   "cell_type": "code",
   "execution_count": 25,
   "metadata": {},
   "outputs": [
    {
     "name": "stdout",
     "output_type": "stream",
     "text": [
      "Number of rows: 937854\n",
      "Number of rows after filtering: 867178\n",
      "\n",
      "Preprocessed data:\n",
      "                                                Text Language      Label\n",
      "0  @Charlie_Corley @Kristine1G @amyklobuchar @Sty...       en  litigious\n",
      "2  https://t.co/YJNiO0p1JV Flagstar Bank disclose...       en  litigious\n",
      "3  Rwanda is set to host the headquarters of Unit...       en   positive\n",
      "4  OOPS. I typed her name incorrectly (today’s br...       en  litigious\n",
      "5  It sucks for me since I'm focused on the natur...       en   negative\n"
     ]
    }
   ],
   "source": [
    "#total rows\n",
    "print(\"Number of rows:\", len(df))\n",
    "\n",
    "#only en language\n",
    "df = df[df['Language'] == 'en']\n",
    "\n",
    "#remove duplicates\n",
    "df.drop_duplicates(inplace=True)\n",
    "\n",
    "#number of rows after filtering\n",
    "print(\"Number of rows after filtering:\", len(df))\n",
    "\n",
    "#print the preprocessed df\n",
    "print(\"\\nPreprocessed data:\")\n",
    "print(df.head())"
   ]
  },
  {
   "cell_type": "code",
   "execution_count": 26,
   "metadata": {},
   "outputs": [
    {
     "name": "stdout",
     "output_type": "stream",
     "text": [
      "\n",
      "Tokenized data:\n",
      "                                                Text Language      Label\n",
      "0  [CharlieCorley, KristineG, amyklobuchar, Style...       en  litigious\n",
      "2  [httpstcoYJNiOpJV, Flagstar, Bank, discloses, ...       en  litigious\n",
      "3  [Rwanda, is, set, to, host, the, headquarters,...       en   positive\n",
      "4  [OOPS, I, typed, her, name, incorrectly, today...       en  litigious\n",
      "5  [It, sucks, for, me, since, Im, focused, on, t...       en   negative\n"
     ]
    }
   ],
   "source": [
    "import re\n",
    "\n",
    "#keep only alphabets\n",
    "df['Text'] = df['Text'].apply(lambda x: re.sub(r'[^a-zA-Z\\s]', '', x))\n",
    "\n",
    "from nltk.tokenize import word_tokenize\n",
    "\n",
    "df['Text'] = df['Text'].apply(word_tokenize)\n",
    "\n",
    "print(\"\\nTokenized data:\")\n",
    "print(df.head())"
   ]
  },
  {
   "cell_type": "code",
   "execution_count": 27,
   "metadata": {},
   "outputs": [
    {
     "name": "stdout",
     "output_type": "stream",
     "text": [
      "Accuracy: 0.8874743421204364\n"
     ]
    }
   ],
   "source": [
    "from sklearn.feature_extraction.text import CountVectorizer\n",
    "from sklearn.naive_bayes import MultinomialNB\n",
    "from sklearn.model_selection import train_test_split\n",
    "from sklearn.metrics import accuracy_score\n",
    "\n",
    "# Vectorization\n",
    "vectorizer = CountVectorizer()\n",
    "X_bow = vectorizer.fit_transform([' '.join(tokens) for tokens in df['Text']])\n",
    "\n",
    "#test and train data splitting\n",
    "X_train, X_test, y_train, y_test = train_test_split(X_bow, df['Label'], test_size=0.2, random_state=42)\n",
    "\n",
    "#training Naive Bayes classifier\n",
    "clf = MultinomialNB()\n",
    "clf.fit(X_train, y_train)\n",
    "\n",
    "#making predictions\n",
    "y_pred = clf.predict(X_test)\n",
    "\n",
    "#model accuracy\n",
    "accuracy = accuracy_score(y_test, y_pred)\n",
    "print(\"Accuracy:\", accuracy)"
   ]
  },
  {
   "cell_type": "code",
   "execution_count": 28,
   "metadata": {},
   "outputs": [
    {
     "name": "stdout",
     "output_type": "stream",
     "text": [
      "Classification Report:\n",
      "              precision    recall  f1-score   support\n",
      "\n",
      "   litigious       0.90      0.89      0.89     35713\n",
      "    negative       0.84      0.92      0.88     48654\n",
      "    positive       0.91      0.87      0.89     49389\n",
      " uncertainty       0.92      0.87      0.90     39680\n",
      "\n",
      "    accuracy                           0.89    173436\n",
      "   macro avg       0.89      0.89      0.89    173436\n",
      "weighted avg       0.89      0.89      0.89    173436\n",
      "\n"
     ]
    }
   ],
   "source": [
    "from sklearn.metrics import classification_report\n",
    "\n",
    "#print classification report\n",
    "print(\"Classification Report:\")\n",
    "print(classification_report(y_test, y_pred))"
   ]
  },
  {
   "cell_type": "code",
   "execution_count": 29,
   "metadata": {},
   "outputs": [
    {
     "name": "stdout",
     "output_type": "stream",
     "text": [
      "Predicted sentiment: positive\n"
     ]
    }
   ],
   "source": [
    "user_input = \"I am happy\"\n",
    "\n",
    "#preprocess the user input\n",
    "user_input_tokens = word_tokenize(re.sub(r'[^a-zA-Z\\s]', '', user_input.lower()))\n",
    "\n",
    "# Vectorization\n",
    "user_input_bow = vectorizer.transform([' '.join(user_input_tokens)])\n",
    "\n",
    "#making prediction\n",
    "user_input_pred = clf.predict(user_input_bow)\n",
    "\n",
    "#print result\n",
    "print(\"Predicted sentiment:\", user_input_pred[0])"
   ]
  }
 ],
 "metadata": {
  "kernelspec": {
   "display_name": "Python 3",
   "language": "python",
   "name": "python3"
  },
  "language_info": {
   "codemirror_mode": {
    "name": "ipython",
    "version": 3
   },
   "file_extension": ".py",
   "mimetype": "text/x-python",
   "name": "python",
   "nbconvert_exporter": "python",
   "pygments_lexer": "ipython3",
   "version": "3.12.0"
  }
 },
 "nbformat": 4,
 "nbformat_minor": 2
}
